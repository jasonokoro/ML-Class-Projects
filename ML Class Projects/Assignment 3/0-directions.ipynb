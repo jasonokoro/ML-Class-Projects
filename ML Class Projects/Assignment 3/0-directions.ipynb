{
 "cells": [
  {
   "cell_type": "markdown",
   "metadata": {},
   "source": [
    "# Part 0: Directions\n",
    "\n",
    "This provides some general directions for completing and submitting the rest of this assignment."
   ]
  },
  {
   "cell_type": "markdown",
   "metadata": {},
   "source": [
    "## Names and Acknowledgement\n",
    "\n",
    "To begin confirm that you have read and accept the course [collaboration, AI, and integrity policies](https://sites.duke.edu/compsci_290_02_f24/policies/) by adding your name or names (if working with a partner). In particular, you acknowledge that you are entirely responsible for your own work, that you have not collaborated in writing or receiving code beyond your partner, and that you have used AI tools such as LLMs to aid your learning and not to generate your results without attribution."
   ]
  },
  {
   "cell_type": "markdown",
   "metadata": {},
   "source": [
    "**Name(s): TODO**\n",
    "\n",
    "**NetID(s): TODO**"
   ]
  },
  {
   "cell_type": "markdown",
   "metadata": {},
   "source": [
    "## Completing and Submitting\n",
    "\n",
    "You should complete and turn in all parts of this assignment (including this one) on Gradescope, which you can access from Canvas. If you work with a partner, you **must** use the [group submission feature on Gradescope](https://guides.gradescope.com/hc/en-us/articles/21863861823373-Adding-Group-Members-to-a-Submission).\n",
    "\n",
    "You should turn in the `.ipynb` notebook files on Gradescope, and should *not* submit an exported pdf or code file. Any printed results or visualizations should appear directly when the notebook is opened. Furthermore, the results should be reproducible by restarting the kernel and running all without generating any errors. To ensure these conditions are met, you should take the following steps when submitting:\n",
    "\n",
    "1. Carefully proofread the resulting notebook from start to finish, ensuring that any printouts or visualizations look as you expect.\n",
    "2. Submit on gradescope, and view the resulting notebook file on gradescope after submitting to ensure it looks as you expect.\n",
    "\n",
    "You can follow this procedure for each part as you complete them, there is no need to submit all parts at once."
   ]
  },
  {
   "cell_type": "markdown",
   "metadata": {},
   "source": [
    "## Grading\n",
    "\n",
    "The assignment is divided into parts, each of which is divided in tasks. Grading is at the task level. Different tasks may have different point values associated, all of which are shown below. Grading will generally be satisfactory/unsatisfactory with full credit for a satisfactory response that accurately addresses all of the directions, partial credit awarded for an unsatisfactory response, and no credit for an unattempted task.\n",
    "\n",
    "- Part 1: Transformer (30 points total)\n",
    "    - Task 1: 8 points\n",
    "    - Task 2: 6 points\n",
    "    - Task 3: 8 points\n",
    "    - Task 4: 8 points\n",
    "- Part 2: BERT-Sentiment (20 points total)\n",
    "    - Task 1: 4 points\n",
    "    - Task 2: 4 points\n",
    "    - Task 3: 8 points\n",
    "    - Task 4: 4 points\n",
    "- Part 3: FLAN-Translate (14 points total)\n",
    "    - Task 1: 4 points\n",
    "    - Task 2: 6 points\n",
    "    - Task 3: 4 points\n",
    "- Part 4: CLIP-Multimodal (12 points total)\n",
    "    - Task 1: 4 points\n",
    "    - Task 2: 4 points\n",
    "    - Task 3: 4 points\n",
    "- Part 5: LLM-Risks (12 points total)\n",
    "    - Task 1: 4 points\n",
    "    - Task 2: 4 points\n",
    "    - Task 3: 4 points\n",
    "\n",
    "Late submissions will be accepted for up to one week from the original due date at a cumulative penalty of 2% per day. This penalty may be waived in cases of incapacitation or a dean’s excuse for emergencies or extenuating circumstances (see the policies page on absence). The late penalty will not, in general, be waived for other personal circumstances including travel or extracurricular activities. In such cases, you should either plan ahead of time to complete assignments or you can submit during the late period at the small penalty."
   ]
  },
  {
   "cell_type": "markdown",
   "metadata": {},
   "source": []
  }
 ],
 "metadata": {
  "language_info": {
   "name": "python"
  }
 },
 "nbformat": 4,
 "nbformat_minor": 2
}
