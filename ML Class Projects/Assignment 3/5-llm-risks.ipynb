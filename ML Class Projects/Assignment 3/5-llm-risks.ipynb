{
 "cells": [
  {
   "cell_type": "markdown",
   "metadata": {
    "id": "yuu3dLhAON6C"
   },
   "source": [
    "# Part 5: LLM Risks\n",
    "\n",
    "There is no programming in this part of the assignment. Instead, this part is about reading an influential paper on the possible risks and dangers of large language model training and deployment from a human and societal perspective. You will respond briefly to several reflection questions.\n",
    "\n",
    "### Learning Objectives\n",
    "\n",
    "Through this exercise, you will:\n",
    "1. **Read** about the possible societal risks of large language models. \n",
    "2. **Interpret** these risks and **articulate** your own view.\n",
    "\n",
    "To begin, read the 2021 article [*On the Dangers of Stochastic Parrots: Can Language Models Be Too Big?*](https://dl.acm.org/doi/10.1145/3442188.3445922) by Emily Bender, Timnit Gebru, Angelina McMillan-Major, and Shmargaret Schmitchell."
   ]
  },
  {
   "cell_type": "markdown",
   "metadata": {
    "id": "sLoY0i08PYDw"
   },
   "source": [
    "## Task 1\n",
    "\n",
    "Referencing the article but in your own words, articulate **at least two** societal challenges or risks assosciated with large language models. Explain in 1-2 paragraphs."
   ]
  },
  {
   "cell_type": "markdown",
   "metadata": {},
   "source": [
    "*Briefly explain for task 1 here*"
   ]
  },
  {
   "cell_type": "markdown",
   "metadata": {},
   "source": [
    "## Task 2\n",
    "\n",
    "In Section 7, the article discusses Paths Forward. Briefly summarize the authors' suggestions. Do you believe these suggestions can mitigate the risks you identified in task 1? Why or why not? Explain in 1-2 paragraphs."
   ]
  },
  {
   "cell_type": "markdown",
   "metadata": {},
   "source": [
    "*Briefly explain for task 2 here*"
   ]
  },
  {
   "cell_type": "markdown",
   "metadata": {},
   "source": [
    "## Task 3\n",
    "\n",
    "Since the publication of this paper, some scientists have [called for a pause](https://futureoflife.org/open-letter/pause-giant-ai-experiments/) on further development and research on large language models. Take a position (agree or disagree) on the following claim: \"Large language model development is advancing too rapidly and the risks of such rapid development outweigh the short-term benefits.\" Explain why you hold your position in 1-2 paragraphs."
   ]
  },
  {
   "cell_type": "markdown",
   "metadata": {
    "id": "uyavXKOpQyFX"
   },
   "source": [
    "*Briefly explain for task 3 here*"
   ]
  }
 ],
 "metadata": {
  "accelerator": "GPU",
  "colab": {
   "gpuType": "T4",
   "provenance": []
  },
  "kernelspec": {
   "display_name": "Python 3 (ipykernel)",
   "language": "python",
   "name": "python3"
  },
  "language_info": {
   "codemirror_mode": {
    "name": "ipython",
    "version": 3
   },
   "file_extension": ".py",
   "mimetype": "text/x-python",
   "name": "python",
   "nbconvert_exporter": "python",
   "pygments_lexer": "ipython3",
   "version": "3.11.5"
  }
 },
 "nbformat": 4,
 "nbformat_minor": 4
}
