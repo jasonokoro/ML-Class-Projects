{
 "cells": [
  {
   "cell_type": "markdown",
   "metadata": {
    "id": "ZHa5nVNN7INU"
   },
   "source": [
    "# Part 2: MLP\n",
    "\n",
    "In this part of the assignment, you will complete a Do-It-Yourself (DIY) implementation of a multilayer perceptron (MLP), including code to optimize the network with backpropagation and minibatch stochastic gradient descent, that corresponds to the Scikit-Learn API.\n",
    "\n",
    "**Learning objectives.** You will:\n",
    "1. Write object-oriented code for a neural network class in Python class, matching standard API patterns.\n",
    "2. Apply numerical Python (NumPy) to efficiently implement a multilayer perceptron with backpropagation and minibatch stochastic gradient descent.\n",
    "3. Evaluate your implementation compared to the Scikit-Learn standard on real image data."
   ]
  },
  {
   "cell_type": "markdown",
   "metadata": {
    "id": "vftwzFPZ7INW"
   },
   "source": [
    "The following code imports a dataset consisting of 8 by 8 pixel grayscale images of handwritten digits. Some images are visualized and then the data are flattened into 64-value one-dimensional NumPy arrays before splitting into training and testing sets."
   ]
  },
  {
   "cell_type": "code",
   "execution_count": 3,
   "metadata": {
    "colab": {
     "base_uri": "https://localhost:8080/",
     "height": 245
    },
    "executionInfo": {
     "elapsed": 1917,
     "status": "ok",
     "timestamp": 1728421015461,
     "user": {
      "displayName": "Jason Okoro",
      "userId": "16611378574248576993"
     },
     "user_tz": 240
    },
    "id": "UzwuHKZg7INW",
    "outputId": "bd5683c2-5d81-4e3e-a150-07af178ce8c5"
   },
   "outputs": [
    {
     "name": "stdout",
     "output_type": "stream",
     "text": [
      "(1797, 64)\n"
     ]
    },
    {
     "data": {
      "image/png": "[encoded data removed]",
      "text/plain": [
       "<Figure size 1000x300 with 4 Axes>"
      ]
     },
     "metadata": {},
     "output_type": "display_data"
    }
   ],
   "source": [
    "# Run but DO NOT MODIFY this code\n",
    "\n",
    "from sklearn.datasets import load_digits\n",
    "import matplotlib.pyplot as plt\n",
    "from sklearn.model_selection import train_test_split\n",
    "\n",
    "digits = load_digits()\n",
    "print(digits.data.shape)\n",
    "\n",
    "# visualizing examples\n",
    "_, axes = plt.subplots(nrows=1, ncols=4, figsize=(10, 3))\n",
    "for ax, image, label in zip(axes, digits.images, digits.target):\n",
    "    ax.set_axis_off()\n",
    "    ax.imshow(image, cmap=plt.cm.gray_r, interpolation=\"nearest\")\n",
    "    ax.set_title(\"Training: %i\" % label)\n",
    "\n",
    "# flatten the images\n",
    "n_samples = len(digits.images)\n",
    "data = digits.images.reshape((n_samples, -1))\n",
    "\n",
    "# Split data into 70% train and 30% test subsets\n",
    "X_train, X_test, y_train, y_test = train_test_split(\n",
    "    data, digits.target, test_size=0.3, shuffle=False\n",
    "    )"
   ]
  },
  {
   "cell_type": "markdown",
   "metadata": {
    "id": "Axtcyl6c7INX"
   },
   "source": [
    "## Task 1\n",
    "\n",
    "Using Scikit-Learn, build a [multilayer perceptron classifier](https://scikit-learn.org/stable/modules/generated/sklearn.neural_network.MLPClassifier.html) fit on the training data to predict the value of `y` given `X`. You may need to experiment with different numbers of hidden units (you only need to have one hidden layer) or other training hyperparameters. Ensure that you achieve a **training** [accuracy](https://scikit-learn.org/stable/modules/generated/sklearn.metrics.accuracy_score.html) of at least 90%.   \n",
    "\n",
    "Then evaluate and report the [accuracy](https://scikit-learn.org/stable/modules/generated/sklearn.metrics.accuracy_score.html) of your model on the **test** data."
   ]
  },
  {
   "cell_type": "code",
   "execution_count": 4,
   "metadata": {
    "colab": {
     "base_uri": "https://localhost:8080/"
    },
    "executionInfo": {
     "elapsed": 2089,
     "status": "ok",
     "timestamp": 1728421019800,
     "user": {
      "displayName": "Jason Okoro",
      "userId": "16611378574248576993"
     },
     "user_tz": 240
    },
    "id": "SVP-kEN47INX",
    "outputId": "f1203d94-036a-4ddf-db0b-fcb9d84c85d4"
   },
   "outputs": [
    {
     "name": "stdout",
     "output_type": "stream",
     "text": [
      "0.9222222222222223\n"
     ]
    }
   ],
   "source": [
    "from sklearn.neural_network import MLPClassifier\n",
    "from sklearn.metrics import accuracy_score\n",
    "model = MLPClassifier(hidden_layer_sizes=50,learning_rate_init=0.001).fit(X_train, y_train)\n",
    "y_pred=model.predict(X_test)\n",
    "print(accuracy_score(y_test,y_pred))\n"
   ]
  },
  {
   "cell_type": "markdown",
   "metadata": {
    "id": "yReUNSp67INX"
   },
   "source": [
    "## Task 2\n",
    "\n",
    "Implement a do it yourself (DIY) multilayer perceptron classifier following the Scikit-Learn API by completing the `NeuralNet` class below.\n",
    "\n",
    "You will see in the description of the class that we are suggesting a somewhat atypical architecture consisting of a single hidden layer with hyperbolic tangent activation followed by linear output, trained on the sum of squares loss. This is to simplify the implementation and align it with the simple example of backpropagation shown in the [Bishop Deep Learning Book](https://www.bishopbook.com/) Section 8.1.3 (meaning you do not need to derive the derivatives for backpropagation yourself and are invited to implement the derivations from the book).\n",
    "\n",
    "Some important notes about the implementation:\n",
    "\n",
    "1. Remember that the Scikit-Learn API treats an input `X` array, whether to `fit` or `predict`, as a matrix with a row for every data point and a column for every feature.\n",
    "2. For `fit`, every row in `X` corresponds to a given output in `y`, and  you don't need to return anything, just optimize the internal model weights using minibatch stochastic gradient descent. Model weights should be stored as instance variables -- we recommend that you initialize these weights as random normally distributed values, for example by using NumPy's [random.normal](https://numpy.org/doc/stable/reference/random/generated/numpy.random.normal.html). You may wish to separately implement a `backprop` helper method to compute the gradient in order to simplify the code structure, but this is optional.\n",
    "3. For `predict_proba`, you should return a two-dimensional NumPy array with a row for every row in `X` and a column for every value in `0, 1, ..., out_size - 1` corresponding to the possible classes, where each entry in a given row corresponds to a probability the given row's input corresponds to the given column's class.\n",
    "4. For `predict`, you should return a one-dimensional NumPy array with a single element `0, 1, ..., out_size - 1` per row in `X` corresponding to the class with the highest predicted probability.\n",
    "5. You do **not** need to include a bias term for this implementation.\n",
    "6. The `fit` method takes an optional `verbose` parameter. While it is not required, we highly recommend that you include code in the `fit` method that, when `verbose` is `True`, logs/prints more information about the training process to help debug.\n",
    "7. The `pass` statements are syntactic placeholders that should be removed when you implement a method.\n",
    "8. Make sure to double check the shapes/dimensions of any matrices or vectors to confirm they align with your expectations.\n",
    "9. Finally, note that your implementation will be much more efficient if you use vectorized NumPy operations and avoid for loops or nested for loops over large amounts of data."
   ]
  },
  {
   "cell_type": "code",
   "execution_count": 29,
   "metadata": {
    "executionInfo": {
     "elapsed": 345,
     "status": "ok",
     "timestamp": 1728421374966,
     "user": {
      "displayName": "Jason Okoro",
      "userId": "16611378574248576993"
     },
     "user_tz": 240
    },
    "id": "TPQFyIJx7INY"
   },
   "outputs": [],
   "source": [
    "# Write code for task 2 here\n",
    "import numpy as np\n",
    "from scipy.special import softmax\n",
    "class NeuralNet:\n",
    "    \"\"\"\n",
    "    Basic implementation of a multilayer perceptron for multiclassification\n",
    "    with a single hidden layer, hyperbolic tangent activation, and linear output.\n",
    "    Trains using a constant learning rate for a specified number of epochs using\n",
    "    minibatch stochastic gradient descent with sum of squares loss. Assumes\n",
    "    output classes are simply 0, 1, ..., out_size - 1.\n",
    "    \"\"\"\n",
    "    def __init__(self, in_size, out_size,\n",
    "                 h_size=100, lr=.35, batch_size=64,\n",
    "                 epochs=3, random_state=2024):\n",
    "        self.in_size = in_size\n",
    "        self.out_size = out_size\n",
    "        self.h_size = h_size\n",
    "        self.lr = lr\n",
    "        self.batch_size = batch_size\n",
    "        self.epochs = epochs\n",
    "        self.h_weights = np.random.normal(size=(self.in_size,self.h_size))\n",
    "        self.o_weights = np.random.normal(size=(self.h_size,self.out_size))\n",
    "\n",
    "\n",
    "    def predict_proba(self, X):\n",
    "\n",
    "        \"\"\"Predict probabilities for each row in X for each class in out_size\"\"\"\n",
    "        pre_active=np.dot(X,self.h_weights)\n",
    "        active=np.tanh(pre_active)\n",
    "        post_active=np.dot(active,self.o_weights)\n",
    "        proba_out=softmax(post_active,axis=1)\n",
    "        return proba_out\n",
    "\n",
    "        pass # Remove the pass when implementing\n",
    "\n",
    "\n",
    "    def predict(self, X):\n",
    "        proba_out = self.predict_proba(X)\n",
    "        predictions = np.argmax(proba_out, axis=1)\n",
    "        return predictions\n",
    "\n",
    "    def fit(self, X, y, verbose=False):\n",
    "        batches_per_epoch = int(np.floor(len(X) / self.batch_size))\n",
    "        epochs=0\n",
    "        while epochs<self.epochs:\n",
    "            for i in range(batches_per_epoch):\n",
    "                batch_start = i * self.batch_size\n",
    "                batch_end = (i + 1) * self.batch_size\n",
    "                X_batch = X[batch_start:batch_end]\n",
    "                y_batch = y[batch_start:batch_end]\n",
    "                pre_active = np.dot(X_batch, self.h_weights)\n",
    "                active = np.tanh(pre_active)\n",
    "                post_active = np.dot(active, self.o_weights)\n",
    "                proba_out = softmax(post_active, axis=1)\n",
    "\n",
    "                proba_out[np.arange(self.batch_size), y_batch] -= 1\n",
    "\n",
    "                output_error = proba_out / self.batch_size\n",
    "                o_weights_grad = np.dot(active.T, output_error)\n",
    "\n",
    "                self.o_weights -= self.lr * o_weights_grad\n",
    "\n",
    "                hidden_error = np.dot(output_error, self.o_weights.T)\n",
    "                tanh_derivative = 1 - active ** 2\n",
    "                hidden_derive = hidden_error * tanh_derivative\n",
    "\n",
    "                h_weights_grad = np.dot(X_batch.T, hidden_derive)\n",
    "\n",
    "                self.h_weights -= self.lr * h_weights_grad\n",
    "\n",
    "            epochs += 1\n",
    "\n",
    "\n",
    "\n",
    "\n"
   ]
  },
  {
   "cell_type": "markdown",
   "metadata": {
    "id": "IEuXDVk37INY"
   },
   "source": [
    "## Task 3\n",
    "\n",
    "Show that your `NeuralNet` class can effectively learn. Specifically fit an instance of your DIY model on the training data to predict the value of `y` given `X`. You may need to experiment with different numbers of hidden units (you only need to have one hidden layer) or other training hyperparameters. Ensure that you achieve a **training** [accuracy](https://scikit-learn.org/stable/modules/generated/sklearn.metrics.accuracy_score.html) of at least 70% (your implementation is not expected to achieve the same level of performance as the Scikit-Learn implementation, but should demonstrate the proof of concept).   \n",
    "\n",
    "Then evaluate and report the [accuracy](https://scikit-learn.org/stable/modules/generated/sklearn.metrics.accuracy_score.html) of your model on the **test** data."
   ]
  },
  {
   "cell_type": "code",
   "execution_count": 30,
   "metadata": {
    "colab": {
     "base_uri": "https://localhost:8080/"
    },
    "executionInfo": {
     "elapsed": 393,
     "status": "ok",
     "timestamp": 1728421377069,
     "user": {
      "displayName": "Jason Okoro",
      "userId": "16611378574248576993"
     },
     "user_tz": 240
    },
    "id": "ihg0OfrB7INY",
    "outputId": "deee8c04-0e75-46cb-a7db-674b9008f48d"
   },
   "outputs": [
    {
     "name": "stdout",
     "output_type": "stream",
     "text": [
      "0.7018518518518518\n"
     ]
    }
   ],
   "source": [
    "model=NeuralNet(len(X_train[0]),10)\n",
    "model.fit(X_train,y_train)\n",
    "y_hat=model.predict(X_test)\n",
    "print(accuracy_score(y_test,y_hat))"
   ]
  }
 ],
 "metadata": {
  "colab": {
   "provenance": []
  },
  "kernelspec": {
   "display_name": "Python 3 (ipykernel)",
   "language": "python",
   "name": "python3"
  },
  "language_info": {
   "codemirror_mode": {
    "name": "ipython",
    "version": 3
   },
   "file_extension": ".py",
   "mimetype": "text/x-python",
   "name": "python",
   "nbconvert_exporter": "python",
   "pygments_lexer": "ipython3",
   "version": "3.11.5"
  }
 },
 "nbformat": 4,
 "nbformat_minor": 4
}
