{
 "cells": [
  {
   "cell_type": "markdown",
   "metadata": {},
   "source": [
    "# 02- Python, NumPy, Jupyter\n",
    "\n",
    "In this lesson we will take a whirlwind tour of the Python Programming language, efficient numerical Python (NumPy) for scientific/ML applications, and the Jupyter lab/notebook environment. \n",
    "\n",
    "This presentation uses materials from the more extensive [Official Python Tutorial](https://docs.python.org/3/tutorial/) and [NumPy Learner Documentation](https://numpy.org/learn/) where you can dive much deeper."
   ]
  },
  {
   "cell_type": "markdown",
   "metadata": {
    "jp-MarkdownHeadingCollapsed": true
   },
   "source": [
    "## Python"
   ]
  },
  {
   "cell_type": "markdown",
   "metadata": {},
   "source": [
    "Python is an *interpreted* language: code is run line-by-line instead of compiling everything ahead of time. You can write standard output with `print()` Note that you do not need to end lines with semicolons."
   ]
  },
  {
   "cell_type": "code",
   "execution_count": null,
   "metadata": {},
   "outputs": [],
   "source": [
    "print(\"Hello World\")"
   ]
  },
  {
   "cell_type": "markdown",
   "metadata": {},
   "source": [
    "This makes Python flexible and easy for prototyping, but also means means that errors will generally not be detected until runtime -- there is no compiler to help catch type errors."
   ]
  },
  {
   "cell_type": "code",
   "execution_count": null,
   "metadata": {},
   "outputs": [],
   "source": [
    "x = 5\n",
    "s = \"hello\"\n",
    "print(x)\n",
    "print(x + s)"
   ]
  },
  {
   "cell_type": "markdown",
   "metadata": {
    "jp-MarkdownHeadingCollapsed": true
   },
   "source": [
    "### Basic Types and IO\n",
    "\n",
    "The most important basic types are `int`, `float`, `bool`, and `str`. Python typing is dynamic and does not have to be declared explicitly."
   ]
  },
  {
   "cell_type": "markdown",
   "metadata": {},
   "source": [
    "#### Numeric and Boolean Types\n",
    "\n",
    "Python will convert `int` to `float` automatically if, for example, you divide."
   ]
  },
  {
   "cell_type": "code",
   "execution_count": null,
   "metadata": {},
   "outputs": [],
   "source": [
    "17 / 3  # classic division returns a float"
   ]
  },
  {
   "cell_type": "markdown",
   "metadata": {},
   "source": [
    "Use `//` for integer division and `%` for the remainder."
   ]
  },
  {
   "cell_type": "code",
   "execution_count": null,
   "metadata": {},
   "outputs": [],
   "source": [
    "17 // 3  # floor division discards the fractional part"
   ]
  },
  {
   "cell_type": "code",
   "execution_count": null,
   "metadata": {},
   "outputs": [],
   "source": [
    "17 % 3  # the % operator returns the remainder of the division"
   ]
  },
  {
   "cell_type": "markdown",
   "metadata": {},
   "source": [
    "Use `**` for exponentiation."
   ]
  },
  {
   "cell_type": "code",
   "execution_count": null,
   "metadata": {},
   "outputs": [],
   "source": [
    "2 ** 7  # 2 to the power of 7"
   ]
  },
  {
   "cell_type": "markdown",
   "metadata": {},
   "source": [
    "`bool`s can be `True` or `False` and are technically a subtype of `int`."
   ]
  },
  {
   "cell_type": "code",
   "execution_count": null,
   "metadata": {},
   "outputs": [],
   "source": [
    "p = True\n",
    "q = False\n",
    "print(p+q) # interprets True as 1 and False as 0"
   ]
  },
  {
   "cell_type": "markdown",
   "metadata": {},
   "source": [
    "You can combine `bool`s with `and`, `or`, and `not`."
   ]
  },
  {
   "cell_type": "code",
   "execution_count": null,
   "metadata": {},
   "outputs": [],
   "source": [
    "p = True\n",
    "q = False\n",
    "print(p and q)\n",
    "print(p or q)\n",
    "print(not p)"
   ]
  },
  {
   "cell_type": "markdown",
   "metadata": {},
   "source": [
    "#### String Type\n",
    "\n",
    "Python does not have a basic character type. Strings (`str`) can be designated with single or double ticks. You can concatenate strings with `+`."
   ]
  },
  {
   "cell_type": "code",
   "execution_count": null,
   "metadata": {},
   "outputs": [],
   "source": [
    "a = 'a string'\n",
    "b = \"also a string\"\n",
    "print(a+b)"
   ]
  },
  {
   "cell_type": "markdown",
   "metadata": {},
   "source": [
    "Multiline strings use triple quotes."
   ]
  },
  {
   "cell_type": "code",
   "execution_count": null,
   "metadata": {},
   "outputs": [],
   "source": [
    "c = \"\"\"a\n",
    "multiline\n",
    "string\n",
    "\"\"\"\n",
    "print(c)"
   ]
  },
  {
   "cell_type": "markdown",
   "metadata": {},
   "source": [
    "You can get the length of a string (number of characters) with `len()`. You can index individual characters in the string using `string[i]` style notation, running from 0 to the length minus 1. Python also let's you use `-1` to reference the *last* character.\n",
    "\n",
    "Remember there is no character type, so indexing just gives you a string of size 1. The following table helps to visualize the indexing conventions.\n",
    "\n",
    "```\n",
    " +---+---+---+---+---+---+\n",
    " | P | y | t | h | o | n |\n",
    " +---+---+---+---+---+---+\n",
    " 0   1   2   3   4   5   6\n",
    "-6  -5  -4  -3  -2  -1\n",
    "```"
   ]
  },
  {
   "cell_type": "code",
   "execution_count": null,
   "metadata": {},
   "outputs": [],
   "source": [
    "word = 'Python'\n",
    "print(len(word)) # the number of characters, including spaces\n",
    "print(word[0]) # the first character \n",
    "print(word[-1]) # # the last character"
   ]
  },
  {
   "cell_type": "markdown",
   "metadata": {},
   "source": [
    "In addition to indexing, **slicing** is also supported using `[i:j]` style notation (inclusive of `i`, exclusive of `j`)."
   ]
  },
  {
   "cell_type": "code",
   "execution_count": null,
   "metadata": {},
   "outputs": [],
   "source": [
    "word = 'Python'\n",
    "print(word[0:2])  # characters from position 0 (included) to 2 (excluded)\n",
    "print(word[2:5])  # characters from position 2 (included) to 5 (excluded)"
   ]
  },
  {
   "cell_type": "markdown",
   "metadata": {},
   "source": [
    "You can easily get a prefix or suffix by slicing: Omit the start index for a prefix or the end index for a suffix."
   ]
  },
  {
   "cell_type": "code",
   "execution_count": null,
   "metadata": {},
   "outputs": [],
   "source": [
    "word = 'Python'\n",
    "word[:2]   # prefix from the beginning up to position 2 (excluded)\n",
    "word[4:]   # suffix from position 4 (included) to the end"
   ]
  },
  {
   "cell_type": "markdown",
   "metadata": {},
   "source": [
    "#### Formatted String Literals\n",
    "\n",
    "Sometimes you want to print some non-string values inside of a line of text. The easiest way to do that in Python is to use a *formatted string literal*. Begin a string with `f` or `F` before the opening quotation mark or triple quotation mark. Inside this string, you can write a Python expression between `{` and `}` characters that can refer to variables or literal values."
   ]
  },
  {
   "cell_type": "code",
   "execution_count": null,
   "metadata": {},
   "outputs": [],
   "source": [
    "year = 2016\n",
    "event = 'Referendum'\n",
    "print(f'Results of the {year} {event}')"
   ]
  },
  {
   "cell_type": "markdown",
   "metadata": {
    "jp-MarkdownHeadingCollapsed": true
   },
   "source": [
    "### Conditionals and Loops"
   ]
  },
  {
   "cell_type": "markdown",
   "metadata": {},
   "source": [
    "#### If Statements\n",
    "\n",
    "Python supports `if` statements along with optional `elif` for \"else if\" and `else`. \n",
    "\n",
    "**Important** Observe that Python uses a colon `:` and then indentation to denote code blocks -- this is a style convention in other languages but is the actual requirement in Python, instead of curly braces."
   ]
  },
  {
   "cell_type": "code",
   "execution_count": null,
   "metadata": {},
   "outputs": [],
   "source": [
    "x = int(input(\"Please enter an integer: \"))\n",
    "\n",
    "if x < 0:\n",
    "    print('Negative')\n",
    "elif x == 0:\n",
    "    print('Zero')\n",
    "else:\n",
    "    print('Positive')"
   ]
  },
  {
   "cell_type": "markdown",
   "metadata": {},
   "source": [
    "Remember you can use `and`, `or`, and `not` in conditionals. You might want to use `!=` for not equal."
   ]
  },
  {
   "cell_type": "code",
   "execution_count": null,
   "metadata": {},
   "outputs": [],
   "source": [
    "x = int(input(\"Please enter an integer: \"))\n",
    "\n",
    "if x < 0 and x % 2 != 0:\n",
    "    print('Negative and odd')\n",
    "elif x == 0:\n",
    "    print('Zero')\n",
    "else:\n",
    "    print('Something else')"
   ]
  },
  {
   "cell_type": "markdown",
   "metadata": {},
   "source": [
    "#### While and For Loops\n",
    "\n",
    "Python supports a typical `while` loop. Note again that indentation is used to designate the code block corresponding to the loop."
   ]
  },
  {
   "cell_type": "code",
   "execution_count": null,
   "metadata": {},
   "outputs": [],
   "source": [
    "i = 0\n",
    "while i < 5:\n",
    "    print(2**i, end=',') # ends the printout with a comma instead of a newline\n",
    "    i += 1"
   ]
  },
  {
   "cell_type": "markdown",
   "metadata": {},
   "source": [
    "More often you may use the `for` loop along with `in` (which can also be used to check for membership in a data structure)."
   ]
  },
  {
   "cell_type": "code",
   "execution_count": null,
   "metadata": {},
   "outputs": [],
   "source": [
    "word = \"Python\"\n",
    "for char in word:\n",
    "    print(char, end=\", \")"
   ]
  },
  {
   "cell_type": "markdown",
   "metadata": {},
   "source": [
    "If you want to iterate over a sequence of numbers, as in a C/Java style `for int i=0; i<n; i++` style for loop, then you likely want to use the `range()` function."
   ]
  },
  {
   "cell_type": "code",
   "execution_count": null,
   "metadata": {},
   "outputs": [],
   "source": [
    "for i in range(5):\n",
    "    print(i)"
   ]
  },
  {
   "cell_type": "markdown",
   "metadata": {},
   "source": [
    "To iterate over the indices of a sequence, you can combine range() and len() as follows."
   ]
  },
  {
   "cell_type": "code",
   "execution_count": null,
   "metadata": {},
   "outputs": [],
   "source": [
    "word = \"Python\"\n",
    "for i in range(len(word)):\n",
    "    print(word[i], end=\", \")"
   ]
  },
  {
   "cell_type": "markdown",
   "metadata": {
    "jp-MarkdownHeadingCollapsed": true
   },
   "source": [
    "### Functions and Parameters"
   ]
  },
  {
   "cell_type": "markdown",
   "metadata": {},
   "source": [
    "Functions are defined using `def` as shown below. The `return` statement does not need parentheses. \n",
    "\n",
    "The *docstring* for the function is the triple-quote comment immediately after the function signature. This is the most common place to comment code in Python and is automatically accessible to many development environments."
   ]
  },
  {
   "cell_type": "code",
   "execution_count": null,
   "metadata": {},
   "outputs": [],
   "source": [
    "def avg(x, y):\n",
    "    \"\"\"Returns average of x and y.\"\"\"\n",
    "    return (x + y) / 2\n",
    "\n",
    "print(avg(5, 3))"
   ]
  },
  {
   "cell_type": "markdown",
   "metadata": {},
   "source": [
    "Python functions can return as many values as you like by separating with commas: They are returned as a tuple (see below) and can be assigned to multiple variables also using comma separation."
   ]
  },
  {
   "cell_type": "code",
   "execution_count": null,
   "metadata": {},
   "outputs": [],
   "source": [
    "def int_div(a, b):\n",
    "    \"\"\"Returns the quotient and remainder of a divided by b\"\"\"\n",
    "    return a // b, a % b\n",
    "\n",
    "q, r = int_div(5, 3)\n",
    "print(f\"Quotient: {q}; Reminder:{r}\")"
   ]
  },
  {
   "cell_type": "markdown",
   "metadata": {},
   "source": [
    "Functions can be assigned to variables in Python (common in functional programming but a bit strange if you aren't used to it!)."
   ]
  },
  {
   "cell_type": "code",
   "execution_count": null,
   "metadata": {},
   "outputs": [],
   "source": [
    "def do_a_func(f):\n",
    "    f()\n",
    "\n",
    "def func():\n",
    "    print(\"hello!\")\n",
    "\n",
    "f = func\n",
    "\n",
    "do_a_func(f)"
   ]
  },
  {
   "cell_type": "markdown",
   "metadata": {},
   "source": [
    "Python functions are often specified with a variable number of arguments by giving default values for some of the parameters. All parameters without default arguments must come first."
   ]
  },
  {
   "cell_type": "code",
   "execution_count": null,
   "metadata": {},
   "outputs": [],
   "source": [
    "def repeat(s, times=2):\n",
    "    for i in range(times):\n",
    "        print(s, end=\",\")\n",
    "    \n",
    "    print() # I'm still part of the function!\n",
    "\n",
    "repeat(\"hello\") # use default argument\n",
    "repeat(\"world\", 3) # specify argument by position\n",
    "repeat(\"!\", times=3) # use the keyword"
   ]
  },
  {
   "cell_type": "markdown",
   "metadata": {
    "jp-MarkdownHeadingCollapsed": true
   },
   "source": [
    "### Lists, Tuples, Dictionaries"
   ]
  },
  {
   "cell_type": "markdown",
   "metadata": {},
   "source": [
    "#### Lists and Tuples\n",
    "\n",
    "Python supports lists, which are implemented using dynamically resized arrays (but arrays themselves are not exposed to the user -- see NumPy). You define and index them using square brackets. The indexing conventions are the same as for strings."
   ]
  },
  {
   "cell_type": "code",
   "execution_count": null,
   "metadata": {},
   "outputs": [],
   "source": [
    "fruits = ['orange', 'apple', 'pear', 'banana', 'kiwi', 'apple', 'banana']\n",
    "\n",
    "print(fruits[0]) # first element\n",
    "print(fruits[-1]) # last element"
   ]
  },
  {
   "cell_type": "markdown",
   "metadata": {},
   "source": [
    "You can loop over a list with or without indices. `enumerate` is handy if you want both."
   ]
  },
  {
   "cell_type": "code",
   "execution_count": null,
   "metadata": {},
   "outputs": [],
   "source": [
    "fruits = ['orange', 'apple', 'pear', 'banana', 'kiwi', 'apple', 'banana']\n",
    "\n",
    "for fruit in fruits:\n",
    "    print(fruit, end=\",\")\n",
    "\n",
    "print()\n",
    "\n",
    "for i, fruit in enumerate(fruits):\n",
    "    print(f'index: {i}, fruit: {fruit}')"
   ]
  },
  {
   "cell_type": "markdown",
   "metadata": {},
   "source": [
    "Sometimes you want do do the opposite of `enumerate`, that is, you want to iterate over two parallel lists together. Use the `zip` function for this, which returns tuples of elements from whatever lists you iterate over."
   ]
  },
  {
   "cell_type": "code",
   "execution_count": null,
   "metadata": {},
   "outputs": [],
   "source": [
    "for num, text in zip([1, 2, 3], ['sugar', 'spice', 'everything nice']):\n",
    "    print(f'number: {num}, message: {text}')"
   ]
  },
  {
   "cell_type": "markdown",
   "metadata": {},
   "source": [
    "You can also create an empty list with `[]`. Lists are dynamic in size: You can get the current size with `len`, and can add elements with `append`. Use `+` to concatenate two lists."
   ]
  },
  {
   "cell_type": "code",
   "execution_count": null,
   "metadata": {},
   "outputs": [],
   "source": [
    "fruits = []\n",
    "fruits.append(\"apple\")\n",
    "fruits.append(\"banana\")\n",
    "\n",
    "animals = []\n",
    "animals.append(\"dog\")\n",
    "animals.append(\"cat\")\n",
    "\n",
    "combined = fruits + animals\n",
    "\n",
    "for s in range(len(combined)):\n",
    "    print(combined[s])"
   ]
  },
  {
   "cell_type": "markdown",
   "metadata": {},
   "source": [
    "Python supports **list comprehensions** which allow you to make new lists where each element is the result of some operations applied to each member of another sequence or iterable."
   ]
  },
  {
   "cell_type": "code",
   "execution_count": null,
   "metadata": {},
   "outputs": [],
   "source": [
    "squares = [x**2 for x in range(10)]\n",
    "print(squares)"
   ]
  },
  {
   "cell_type": "markdown",
   "metadata": {},
   "source": [
    "You can also have nested lists in Python. You can declare these explicitly or, often conveniently, with list comprehensions."
   ]
  },
  {
   "cell_type": "code",
   "execution_count": null,
   "metadata": {},
   "outputs": [],
   "source": [
    "matrix = [\n",
    "    [1, 2, 3, 4],\n",
    "    [5, 6, 7, 8],\n",
    "    [9, 10, 11, 12],\n",
    "]\n",
    "\n",
    "transpose = [[row[i] for row in matrix] for i in range(4)]\n",
    "\n",
    "print(matrix)\n",
    "print(transpose)"
   ]
  },
  {
   "cell_type": "markdown",
   "metadata": {},
   "source": [
    "Simple assignment, for lists, creates a second reference to the same list object, rather than a separate list in memory."
   ]
  },
  {
   "cell_type": "code",
   "execution_count": null,
   "metadata": {},
   "outputs": [],
   "source": [
    "my_list = ['a', 'b', 'c']\n",
    "another_list = my_list\n",
    "another_list.append('gamma')\n",
    "print(my_list)"
   ]
  },
  {
   "cell_type": "markdown",
   "metadata": {},
   "source": [
    "Tuples are like lists except they are an ordered iterable object, except they are immutable. They are designated with parentheses instead of square brackets."
   ]
  },
  {
   "cell_type": "code",
   "execution_count": null,
   "metadata": {},
   "outputs": [],
   "source": [
    "my_tuple = ('a', 'b', 'c')\n",
    "for i in range(len(my_tuple)):\n",
    "    print(f'index: {i}, value: {my_tuple[i]}')\n",
    "\n",
    "my_tuple[0] = 'alpha' # This would have been fine for a list"
   ]
  },
  {
   "cell_type": "markdown",
   "metadata": {},
   "source": [
    "#### Dictionaries\n",
    "\n",
    "A \"Dictionary\" is Python's built-in assosciative or map data structure (a lookup table), implemented as a dynamic hash table. \n",
    "\n",
    "It is best to think of a dictionary as a set of key: value pairs, with the requirement that the keys are unique (within one dictionary). Curly braces create a dictionary: `{}`, and you can use square braces `[]` to lookup the value assosciated with a key, or to add an entry, or to update a value."
   ]
  },
  {
   "cell_type": "code",
   "execution_count": null,
   "metadata": {},
   "outputs": [],
   "source": [
    "tel = {'jack': 4098, 'sape': 4139}\n",
    "\n",
    "print(tel['jack']) # lookup the value assosciated with the key jack\n",
    "\n",
    "tel['guido'] = 4127 # add a key value pair (guido, 4127)\n",
    "print(tel['guido'])\n",
    "\n",
    "tel['jack'] = 0 # update the value assosciated with jack to 0\n",
    "print(tel['jack'])"
   ]
  },
  {
   "cell_type": "markdown",
   "metadata": {},
   "source": [
    "You can use `in` to check if a given key is in a dictionary. You can also use this to conveniently loop through the elements of a dictionary."
   ]
  },
  {
   "cell_type": "code",
   "execution_count": null,
   "metadata": {},
   "outputs": [],
   "source": [
    "knights = {'gallahad': 'the pure', 'robin': 'the brave'}\n",
    "for key in knights:\n",
    "    print(f'name: {key}, trait: {knights[key]}')"
   ]
  },
  {
   "cell_type": "markdown",
   "metadata": {
    "jp-MarkdownHeadingCollapsed": true
   },
   "source": [
    "### Classes, Objects, and Methods"
   ]
  },
  {
   "cell_type": "markdown",
   "metadata": {},
   "source": [
    "Python supports object-oriented programming. You can define a `class`, inside of which you can define attributes accessed with the `.`. \n",
    "\n",
    "`self` is used to refer to an object on which an attribute is referenced, and should be the first parameter for any **instance** method. Instance variables should be declared as `self.var_name`. \n",
    "\n",
    "`__init__(self, ...)` is the constructor method run at object creation. Other instance methods can be declared and then called on the object later.\n",
    "\n",
    "Note again how Python uses indentation for code blocks."
   ]
  },
  {
   "cell_type": "code",
   "execution_count": null,
   "metadata": {},
   "outputs": [],
   "source": [
    "class Pair:\n",
    "    def __init__(self, x, y):\n",
    "        self.x = x # this is an instance variable\n",
    "        self.y = y # another instance variable\n",
    "\n",
    "    def max_coord(self): # this is an instance method\n",
    "        return max(self.x, self.y)\n",
    "\n",
    "p = Pair(0, 1) # Create a Pair object\n",
    "print(p.max_coord()) # Call max_coord() method"
   ]
  },
  {
   "cell_type": "markdown",
   "metadata": {},
   "source": [
    "Instance variables are for data unique to each instance and class variables are for attributes and methods shared by all instances of the class. Sometimes this leads to confusions like the following."
   ]
  },
  {
   "cell_type": "code",
   "execution_count": null,
   "metadata": {},
   "outputs": [],
   "source": [
    "class Dog:\n",
    "    tricks = []             # mistaken use of a class variable\n",
    "    def __init__(self, name):\n",
    "        self.name = name\n",
    "\n",
    "    def add_trick(self, trick):\n",
    "        self.tricks.append(trick)\n",
    "\n",
    "d = Dog('Fido')\n",
    "e = Dog('Buddy')\n",
    "d.add_trick('roll over')\n",
    "e.add_trick('play dead')\n",
    "print(d.tricks)               # unexpectedly shared by all dogs"
   ]
  },
  {
   "cell_type": "markdown",
   "metadata": {},
   "source": [
    "What we should have done instead is make tricks an instance variable."
   ]
  },
  {
   "cell_type": "code",
   "execution_count": null,
   "metadata": {},
   "outputs": [],
   "source": [
    "class Dog:\n",
    "    def __init__(self, name):\n",
    "        self.name = name\n",
    "        self.tricks = []    # creates a new empty list for each dog\n",
    "\n",
    "    def add_trick(self, trick):\n",
    "        self.tricks.append(trick)\n",
    "\n",
    "d = Dog('Fido')\n",
    "e = Dog('Buddy')\n",
    "d.add_trick('roll over')\n",
    "e.add_trick('play dead')\n",
    "print(d.tricks)"
   ]
  },
  {
   "cell_type": "markdown",
   "metadata": {},
   "source": []
  },
  {
   "cell_type": "markdown",
   "metadata": {
    "jp-MarkdownHeadingCollapsed": true
   },
   "source": [
    "## NumPy"
   ]
  },
  {
   "cell_type": "markdown",
   "metadata": {},
   "source": [
    "Python is a great language, but it has one glaring problem for large scale machine learning. It is...slow. Veeeeery slow. Here are some timing loops to iterate over a list of size `n` in Java versus Python on my laptop.\n",
    "\n",
    "|               n    |     Java (ms)    |     Python (ms)    |\n",
    "|-------------------:|-----------------:|-------------------:|\n",
    "|          10,000    |           < 1    |               1    |\n",
    "|         100,000    |             4    |              12    |\n",
    "|       1,000,000    |            17    |              97    |\n",
    "|      10,000,000    |            51    |             910    |\n",
    "|     100,000,000    |           181    |           8,820    |\n",
    "\n",
    "In general you should think of regular Python iteration as **10-100 times slower** than in compiled languages such as Java or C++. \n",
    "\n",
    "This doesn't matter for small tasks like iterating over a list of a hundred elements. For intensive computing on big data, we turn to to the NumPy library for numerical Python. "
   ]
  },
  {
   "cell_type": "markdown",
   "metadata": {
    "jp-MarkdownHeadingCollapsed": true
   },
   "source": [
    "### NumPy Arrays"
   ]
  },
  {
   "cell_type": "markdown",
   "metadata": {},
   "source": [
    "Where we have lists in basic Python, with NumPy. In order to use them, we will need to `import` the `NumPy` package. \n",
    "\n",
    "It is a common convention to abbreviate the package as `np` using the `as` keyword in Python -- you don't have to do this but will commonly see it in other code."
   ]
  },
  {
   "cell_type": "code",
   "execution_count": null,
   "metadata": {},
   "outputs": [],
   "source": [
    "import numpy as np"
   ]
  },
  {
   "cell_type": "markdown",
   "metadata": {},
   "source": [
    "There are several ways to create arrays. For example, you can create an array from a regular Python list or tuple using the array function. \n",
    "\n",
    "Note how we use `.` to access a function within the numpy package."
   ]
  },
  {
   "cell_type": "code",
   "execution_count": null,
   "metadata": {},
   "outputs": [],
   "source": [
    "a = np.array([2, 3, 4])\n",
    "print(a)"
   ]
  },
  {
   "cell_type": "markdown",
   "metadata": {},
   "source": [
    "Regular Python lists can hold elements of different types and are dynamic in size. Numpy arrays have a fixed size and can only elements of one type."
   ]
  },
  {
   "cell_type": "code",
   "execution_count": null,
   "metadata": {},
   "outputs": [],
   "source": [
    "a = np.array([2.5, 3, 4])\n",
    "print(a.dtype)\n",
    "print(len(a))"
   ]
  },
  {
   "cell_type": "markdown",
   "metadata": {},
   "source": [
    "Often we will work with 2-dimensional NumPy arrays (rows and columns, like a matrix in mathematics).\n",
    "\n",
    "You can initialize a numpy array prefilled with zeros or ones by passing a `shape` argument: a single integer for a 1-dimensional array or a tuple of two integers (ros, columns) for a 2-dimensional array."
   ]
  },
  {
   "cell_type": "code",
   "execution_count": null,
   "metadata": {},
   "outputs": [],
   "source": [
    "print(np.zeros(3))\n",
    "\n",
    "print(np.ones((4, 4)))"
   ]
  },
  {
   "cell_type": "markdown",
   "metadata": {},
   "source": [
    "Or, you might want to initialize an ordered sequence, similar to the Python `range` function. You can do this using the `arrange` function."
   ]
  },
  {
   "cell_type": "code",
   "execution_count": null,
   "metadata": {},
   "outputs": [],
   "source": [
    "print(np.arange(10, 30, 5)) # from 10 (inclusive) to 30 (exclusive) by 5s"
   ]
  },
  {
   "cell_type": "markdown",
   "metadata": {},
   "source": [
    "You can use `.shape` to get the tuple of number of rows by number of columns. For example, if we want to create another Numpy array of the same size."
   ]
  },
  {
   "cell_type": "code",
   "execution_count": null,
   "metadata": {},
   "outputs": [],
   "source": [
    "A = np.array([[1, 2], [3, 4], [5, 6]])\n",
    "print(A) \n",
    "print(A.shape) # tuple of number of rows by number of columns\n",
    "B = np.zeros(A.shape) # empty array of same shape\n",
    "print(B)"
   ]
  },
  {
   "cell_type": "markdown",
   "metadata": {},
   "source": [
    "Sometimes we want to change the shape of an array: most commonly to \"flatten\" a 2-d into a 1-d or vice versa. We can do this with `ravel` and `reshape`."
   ]
  },
  {
   "cell_type": "code",
   "execution_count": null,
   "metadata": {},
   "outputs": [],
   "source": [
    "a_vector = np.arange(4)\n",
    "a_matrix = a_vector.reshape((2, 2))\n",
    "\n",
    "print(a_matrix)\n",
    "print(a_matrix.ravel())"
   ]
  },
  {
   "cell_type": "markdown",
   "metadata": {},
   "source": [
    "Other common structure changes include transposing (exchange rows for columns) with `.T` and stacking arrays vertically `vstack` or horizontally `hstack`."
   ]
  },
  {
   "cell_type": "code",
   "execution_count": null,
   "metadata": {},
   "outputs": [],
   "source": [
    "a = np.array([[1, 2], [3, 4]])\n",
    "b = a.T\n",
    "print(a)\n",
    "print(b)"
   ]
  },
  {
   "cell_type": "code",
   "execution_count": null,
   "metadata": {},
   "outputs": [],
   "source": [
    "print(np.vstack((a, b)))\n",
    "print(np.hstack((a, b)))"
   ]
  },
  {
   "cell_type": "markdown",
   "metadata": {},
   "source": [
    "In general, Numpy will try to avoid copying all of the elements of an array. If you really want to create a totally separate copy in memory, use the `copy()` method."
   ]
  },
  {
   "cell_type": "code",
   "execution_count": null,
   "metadata": {},
   "outputs": [],
   "source": [
    "a = np.array([[1, 2], [3, 4]])\n",
    "b = a.copy()\n",
    "print(b)"
   ]
  },
  {
   "cell_type": "markdown",
   "metadata": {
    "jp-MarkdownHeadingCollapsed": true
   },
   "source": [
    "### Slicing and Iterating"
   ]
  },
  {
   "cell_type": "markdown",
   "metadata": {},
   "source": [
    "One-dimensional arrays can be indexed, sliced and iterated over, much like regular Python lists."
   ]
  },
  {
   "cell_type": "code",
   "execution_count": null,
   "metadata": {},
   "outputs": [],
   "source": [
    "a = np.array([3.5, 9.3, 4.2, 7.6])\n",
    "print(a)\n",
    "print(a[2])\n",
    "print(a[1:3])\n",
    "\n",
    "for val in a[2:]:\n",
    "    print(val, end=\",\")\n",
    "\n",
    "print()\n",
    "\n",
    "for i in range(len(a)):\n",
    "    print(f'index: {i}, value: {a[i]}')"
   ]
  },
  {
   "cell_type": "markdown",
   "metadata": {},
   "source": [
    "For 2-dimensional arrays, indexing and slicing with a single value/range will always refer to the **rows**."
   ]
  },
  {
   "cell_type": "code",
   "execution_count": null,
   "metadata": {},
   "outputs": [],
   "source": [
    "A = np.array([[1, 2], [3, 4], [5, 6]])\n",
    "print(A[0]) # first row\n",
    "print(A[1:]) # all rows starting from second"
   ]
  },
  {
   "cell_type": "markdown",
   "metadata": {},
   "source": [
    "You can index a particular row, column position using `[row, column]`. You can also slice columns by using a colon `:` in the row position."
   ]
  },
  {
   "cell_type": "code",
   "execution_count": null,
   "metadata": {},
   "outputs": [],
   "source": [
    "A = np.array([[1, 2], [3, 4], [5, 6]])\n",
    "print(A)\n",
    "print(A[2, 1]) # third row, second column\n",
    "print(A[:,0]) # all of the first column"
   ]
  },
  {
   "cell_type": "markdown",
   "metadata": {},
   "source": [
    "You can assign whole slices at a time, for example, to assign new values to an entire column."
   ]
  },
  {
   "cell_type": "code",
   "execution_count": null,
   "metadata": {},
   "outputs": [],
   "source": [
    "A = np.array([[1, 2], [3, 4], [5, 6]])\n",
    "print(A)\n",
    "\n",
    "A[:,0] = 0\n",
    "print(A)"
   ]
  },
  {
   "cell_type": "markdown",
   "metadata": {},
   "source": [
    "By default, iterating over a 2-d array will iterate over rows."
   ]
  },
  {
   "cell_type": "code",
   "execution_count": null,
   "metadata": {},
   "outputs": [],
   "source": [
    "A = np.array([[1, 2], [3, 4], [5, 6]])\n",
    "\n",
    "for row in A:\n",
    "    print(row)"
   ]
  },
  {
   "cell_type": "markdown",
   "metadata": {},
   "source": [
    "If necessary (it rarely is), you can also, of course, write a nested loop over the rows and columns."
   ]
  },
  {
   "cell_type": "code",
   "execution_count": null,
   "metadata": {},
   "outputs": [],
   "source": [
    "A = np.array([[1, 2], [3, 4], [5, 6]])\n",
    "\n",
    "for row in A: # using enhanced style loop\n",
    "    for val in row:\n",
    "        print(val, end=\",\")\n",
    "\n",
    "print() \n",
    "\n",
    "n_rows, n_cols = A.shape\n",
    "for i in range(n_rows): # using traditional index style loop\n",
    "    for j in range(n_cols):\n",
    "        print(A[i, j], end=\",\")"
   ]
  },
  {
   "cell_type": "markdown",
   "metadata": {
    "jp-MarkdownHeadingCollapsed": true
   },
   "source": [
    "### Operations and Universal Functions"
   ]
  },
  {
   "cell_type": "markdown",
   "metadata": {},
   "source": [
    "Arithmetic operators on arrays apply elementwise. A new array is created and filled with the result. This is a vectorized operation that is substantially faster for large arrays than writing for loops over Python lists."
   ]
  },
  {
   "cell_type": "code",
   "execution_count": null,
   "metadata": {},
   "outputs": [],
   "source": [
    "a = np.array([20, 30, 40, 50])\n",
    "b = np.array([0, 1, 2, 3])\n",
    "c = a + b # elementwise sum\n",
    "print(c)"
   ]
  },
  {
   "cell_type": "markdown",
   "metadata": {},
   "source": [
    "The same principle of elementwise operations holds for 2-dimensional arrays. Multiplication with `*` is also applied elementwise -- matrix multiplication is performed with `@` or `.dot`."
   ]
  },
  {
   "cell_type": "code",
   "execution_count": null,
   "metadata": {},
   "outputs": [],
   "source": [
    "A = np.array([[1, 2], [0, 1]])\n",
    "B = np.array([[0, 1], [1, 3]])\n",
    "print(f'A matrix: \\n{A}\\n')\n",
    "print(f'B matrix: \\n{B}\\n')\n",
    "print(f'elementwise product: \\n{A * B}\\n') # elementwise product\n",
    "print(f'matrix product: \\n{A @ B}\\n') # elementwise product"
   ]
  },
  {
   "cell_type": "markdown",
   "metadata": {},
   "source": [
    "You can also perform elementwise boolean comparisons, which will return a boolean array."
   ]
  },
  {
   "cell_type": "code",
   "execution_count": null,
   "metadata": {},
   "outputs": [],
   "source": [
    "a = np.array([ 9.1, -9.8,  7.4 , -2.6])\n",
    "print(a)\n",
    "print(a >= 0)"
   ]
  },
  {
   "cell_type": "markdown",
   "metadata": {},
   "source": [
    "What is returned is called a boolean mask. Interestingly, you can *filter* a numpy array by indexing with such a mask."
   ]
  },
  {
   "cell_type": "code",
   "execution_count": null,
   "metadata": {},
   "outputs": [],
   "source": [
    "a = np.array([ 9.1, -9.8,  7.4 , -2.6])\n",
    "nonneg = a >= 0\n",
    "print(a[nonneg])"
   ]
  },
  {
   "cell_type": "markdown",
   "metadata": {},
   "source": [
    "To combine boolean arrays using elementwise logical operations, you must use `&` for and, `|` for or."
   ]
  },
  {
   "cell_type": "code",
   "execution_count": null,
   "metadata": {},
   "outputs": [],
   "source": [
    "a = np.array([ 9.1, -9.8,  7.4 , -2.6])\n",
    "nonneg = a >= 0\n",
    "small = a < 8\n",
    "print(a[nonneg & small])"
   ]
  },
  {
   "cell_type": "markdown",
   "metadata": {},
   "source": [
    "Many helpful unary operations (that take an array as input and return a single value) are implemented for you in Numpy. For example, you may often want to get the `sum`, `max`, or `mean` of elements in an array."
   ]
  },
  {
   "cell_type": "code",
   "execution_count": null,
   "metadata": {},
   "outputs": [],
   "source": [
    "a = np.array([ 9.1, -9.8,  7.4 , -2.6])\n",
    "print(a.sum())\n",
    "print(a.max())\n",
    "print(a.mean())"
   ]
  },
  {
   "cell_type": "markdown",
   "metadata": {},
   "source": [
    "For a 2-dimensional array, these unary operations will simply treat the array like a flattened 1-dimensional array. However, you can use the `axis=0` argument to get the value of each column separately, or the `axis=1` argument to get the value of each row separately."
   ]
  },
  {
   "cell_type": "code",
   "execution_count": null,
   "metadata": {},
   "outputs": [],
   "source": [
    "b = np.arange(12).reshape(3, 4)\n",
    "print(b)\n",
    "print(b.sum(axis=0))     # sum of each column\n",
    "print(b.min(axis=1))     # min of each row"
   ]
  },
  {
   "cell_type": "markdown",
   "metadata": {},
   "source": [
    "Numpy provides a number of helpful mathematical functions that can be applied elementwise and efficiently. These are called *universal functions* or **ufuncs**. For example, you can get the square root of every element with `np.sqrt`, the logarithms with `np.log` (the natural logarithm, base $e$, is the default)."
   ]
  },
  {
   "cell_type": "code",
   "execution_count": null,
   "metadata": {},
   "outputs": [],
   "source": [
    "B = np.array([1, 2, 3])\n",
    "print(np.sqrt(B))\n",
    "print(np.log(B))"
   ]
  },
  {
   "cell_type": "markdown",
   "metadata": {},
   "source": [
    "Numpy supports easy random number generation with the `np.random` module, including the ability to set a random `seed` for reproducible testing results. You can pass a `size` argument to get a numpy array of random results."
   ]
  },
  {
   "cell_type": "code",
   "execution_count": null,
   "metadata": {},
   "outputs": [],
   "source": [
    "rng = np.random.default_rng(seed=2024)\n",
    "print(rng.random(size=(3, 3))) # uniform random between 0 and 1\n",
    "print()\n",
    "print(rng.normal(size=(3, 3))) # standard normal/gaussian"
   ]
  },
  {
   "cell_type": "markdown",
   "metadata": {},
   "source": [
    "Numpy has some handy functions for getting the *index* of the max/min element (`argmax`/`argmin`) or to get the indices of the elements in sorted order with `argsort`."
   ]
  },
  {
   "cell_type": "code",
   "execution_count": null,
   "metadata": {},
   "outputs": [],
   "source": [
    "a = np.array([5, 3, 9, 7, 2, 4])\n",
    "print(f'max value is at index: {a.argmax()}')\n",
    "print(f'min value is at index: {a.argmin()}')\n",
    "print(f'index of min, index of second min, ...: {np.argsort(a)}')"
   ]
  },
  {
   "cell_type": "markdown",
   "metadata": {},
   "source": [
    "## Jupyter"
   ]
  },
  {
   "cell_type": "markdown",
   "metadata": {},
   "source": [
    "We have been working in a Jupyter notebook file (`.ipynb`), which you can open within Jupyter lab, either through an OIT provided container, or on your own device if you choose to manage your own installation.\n",
    "\n",
    "There are a number of advantages to a Jupyter environment for prototyping machine learning applications. Cells are a very lightweight and flexible mechanism for writing and executing code. \n",
    "\n",
    "Also, it is easy to embed visualizaitons produced by code directly alongside the code. Note how in the following example, we do not print anything at the end: The last return value gets rendered in Jupyter."
   ]
  },
  {
   "cell_type": "code",
   "execution_count": null,
   "metadata": {},
   "outputs": [],
   "source": [
    "import seaborn as sns\n",
    "data = [i**2 for i in range(100)]\n",
    "sns.displot(data)"
   ]
  },
  {
   "cell_type": "markdown",
   "metadata": {},
   "source": [
    "We can also embed nicely formatted text using Markdown and mathematics with LaTeX alongside our code in these markdown cells.\n",
    "\n",
    "Markdown is a simple and lightweight formatting language used in jupyter notebooks, github/gitlab, and many places on the web. Using markdown cells, you can write text to explain your code and results, present tables lists and tables, etc. We give some brief examples of core functionality here, but you should check out the [basic syntax guide](https://www.markdownguide.org/basic-syntax/) as well."
   ]
  },
  {
   "cell_type": "markdown",
   "metadata": {},
   "source": [
    "### Lists\n",
    "\n",
    "1. First item\n",
    "2. Second item\n",
    "3. Third item\n",
    "\n",
    "- something\n",
    "- another thing\n",
    "- one more\n",
    "\n",
    "### Tables\n",
    "\n",
    "| column 1 | column 2 | column 3 |\n",
    "|----------|----------|----------|\n",
    "| 1        | 2        | 3        |\n",
    "| 4        | 5        | 6        |\n",
    "| 7        | 8        | 9        |\n",
    "\n"
   ]
  },
  {
   "cell_type": "markdown",
   "metadata": {},
   "source": [
    "### Math\n",
    "\n",
    "Jupyter notebooks in Markdown support rendering $\\LaTeX$, which is the default typesetting language for well-rendered and easy to read matehatmics. We give a few examples below. For more info, we recommend [Overleaf](https://www.overleaf.com/learn/latex/Mathematical_expressions), which gives a nice introduction in their documentation. See especially the Mathematics section. Latex commands always begin with the backslash character."
   ]
  },
  {
   "cell_type": "markdown",
   "metadata": {},
   "source": [
    "You can use single dollar signs to render an inline equation such as $4x^2 + 3 = 12$. Only use inline math for short things like variable names $x$ that do not require too much vertical space, otherwise they will break up the line spacing in the paragraph and be difficult to read like $\\left( \\frac{x^3 + y}{\\frac{1}{x+y}}\\right)^2 = 0$\n",
    "\n",
    "Instead, use double dollar signs to render centered equations. $$ \\left( \\frac{x^3 + y}{\\frac{1}{x+y}}\\right)^2 = 0 $$\n"
   ]
  },
  {
   "cell_type": "markdown",
   "metadata": {},
   "source": [
    "You can also use the `\\begin{equation}` and `\\end{equation}` syntax instead of double dollar signs or if you want numbered equations.\n",
    "\\begin{equation}\n",
    "\\left( \\sum_{k=1}^n a_k b_k \\right)^2 \\leq \\left( \\sum_{k=1}^n a_k^2 \\right) \\left( \\sum_{k=1}^n b_k^2 \\right)\n",
    "\\end{equation}\n",
    "\n",
    "\n",
    "$$\n",
    "\\begin{align}\n",
    "\\dot{x} & = \\sigma(y-x) \\\\\n",
    "\\dot{y} & = \\rho x - y - xz \\\\\n",
    "\\dot{z} & = -\\beta z + xy\n",
    "\\end{align}\n",
    "$$"
   ]
  },
  {
   "cell_type": "markdown",
   "metadata": {},
   "source": [
    "One thing to beware of is out of order cell execution, a common programming pitfall! In general, you should always ensure that your notebook output is correct after a restart and run all before turning anything in."
   ]
  },
  {
   "cell_type": "code",
   "execution_count": null,
   "metadata": {},
   "outputs": [],
   "source": [
    "x = 0\n",
    "y = 1"
   ]
  },
  {
   "cell_type": "code",
   "execution_count": null,
   "metadata": {},
   "outputs": [],
   "source": [
    "y += 1\n",
    "x = y"
   ]
  },
  {
   "cell_type": "code",
   "execution_count": null,
   "metadata": {},
   "outputs": [],
   "source": [
    "x"
   ]
  }
 ],
 "metadata": {
  "kernelspec": {
   "display_name": "Python 3 (ipykernel)",
   "language": "python",
   "name": "python3"
  },
  "language_info": {
   "codemirror_mode": {
    "name": "ipython",
    "version": 3
   },
   "file_extension": ".py",
   "mimetype": "text/x-python",
   "name": "python",
   "nbconvert_exporter": "python",
   "pygments_lexer": "ipython3",
   "version": "3.11.7"
  }
 },
 "nbformat": 4,
 "nbformat_minor": 4
}
