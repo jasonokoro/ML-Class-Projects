{
 "cells": [
  {
   "cell_type": "markdown",
   "metadata": {},
   "source": [
    "# Part 1: Diabetes\n",
    "\n",
    "In this part of the assignment, you will build a predictive model for diabetes disease progression in the next year based on current observed features of disease symptoms. \n",
    "\n",
    "**Learning objectives.** You will:\n",
    "1. Train and test a linear model using ordinary least squares regression. \n",
    "2. Apply regularization, specifically LASSO, to build a sparse model.\n",
    "\n",
    "The following code will download and preview three examples of the data. The ten features are as follows (in order):\n",
    "\n",
    "- age age in years\n",
    "- sex\n",
    "- bmi body mass index\n",
    "- bp average blood pressure\n",
    "- s1 tc, total serum cholesterol\n",
    "- s2 ldl, low-density lipoproteins\n",
    "- s3 hdl, high-density lipoproteins\n",
    "- s4 tch, total cholesterol / HDL\n",
    "- s5 ltg, log of serum triglycerides level\n",
    "- s6 glu, blood sugar level\n",
    "\n",
    "The target value is a quantiative measure of disease progression after 1 year, where larger numbers are worse.\n",
    "\n",
    "The code stores the feature matrix `X` as a two-dimensional NumPy array where each row corresponds to a data point and each column is a feature. The target value is stored as a one-dimensional NumPy array `y` where the index `i` element of `y` correpsonds to the row `i` data point of `X`.\n",
    "\n",
    "Your overall goal in this part is to build and evaluate a linear model to predict the target variable `y` as a function of the ten features in `X`, and to identify which features are more significant for predicting `y`."
   ]
  },
  {
   "cell_type": "code",
   "execution_count": 5,
   "metadata": {},
   "outputs": [
    {
     "name": "stdout",
     "output_type": "stream",
     "text": [
      "['age', 'sex', 'bmi', 'bp', 's1', 's2', 's3', 's4', 's5', 's6']\n",
      "[[ 59.       2.      32.1    101.     157.      93.2     38.       4.\n",
      "    4.8598  87.    ]\n",
      " [ 48.       1.      21.6     87.     183.     103.2     70.       3.\n",
      "    3.8918  69.    ]\n",
      " [ 72.       2.      30.5     93.     156.      93.6     41.       4.\n",
      "    4.6728  85.    ]]\n",
      "[151.  75. 141.]\n"
     ]
    }
   ],
   "source": [
    "# Run but DO NOT MODIFY this code\n",
    "\n",
    "from sklearn.datasets import load_diabetes\n",
    "\n",
    "# Load the diabetes dataset\n",
    "diabetes = load_diabetes(scaled = False)\n",
    "print(diabetes.feature_names)\n",
    "\n",
    "# Get the feature data and target variable\n",
    "X = diabetes.data\n",
    "y = diabetes.target\n",
    "\n",
    "# Preview the first 3 data points\n",
    "print(X[:3])\n",
    "print(y[:3])"
   ]
  },
  {
   "cell_type": "markdown",
   "metadata": {},
   "source": [
    "## Task 1\n",
    "\n",
    "Randomly split the input data into a [train and test partition](https://scikit-learn.org/stable/modules/generated/sklearn.model_selection.train_test_split.html), with 30% of the data reserved for testing. Use a random seed of `2024` for reproducibility of the results."
   ]
  },
  {
   "cell_type": "code",
   "execution_count": 9,
   "metadata": {},
   "outputs": [],
   "source": [
    "# Write task 1 code here\n",
    "from sklearn.model_selection import train_test_split\n",
    "X_train, X_test, y_train, y_test=train_test_split(X,y, test_size=.3, random_state=2024)"
   ]
  },
  {
   "cell_type": "markdown",
   "metadata": {},
   "source": [
    "## Task 2\n",
    "\n",
    "Build a baseline prediction by computing the [average](https://numpy.org/doc/stable/reference/generated/numpy.mean.html) target value of the training data. Evaluate the [root mean squared error](https://scikit-learn.org/stable/modules/generated/sklearn.metrics.root_mean_squared_error.html#sklearn.metrics.root_mean_squared_error) between the baseline and the test data."
   ]
  },
  {
   "cell_type": "code",
   "execution_count": 35,
   "metadata": {},
   "outputs": [
    {
     "name": "stdout",
     "output_type": "stream",
     "text": [
      "152.03236245954693\n",
      "78.17581726028506\n",
      "\n"
     ]
    }
   ],
   "source": [
    "# Write task 2 code here\n",
    "import numpy as np\n",
    "from sklearn.metrics import root_mean_squared_error\n",
    "data=np.array(y_train)\n",
    "print(np.mean(data))\n",
    "baseline_array=[]\n",
    "for i in range(133):\n",
    "    baseline_array.append(np.mean(data))\n",
    "rmse=root_mean_squared_error(baseline_array,y_test)\n",
    "print(rmse)\n",
    "#out=np.mean(rmse)\n",
    "print()"
   ]
  },
  {
   "cell_type": "markdown",
   "metadata": {},
   "source": [
    "## Task 3\n",
    "\n",
    "Build a linear predictive model using [ordinary least squares regression](https://scikit-learn.org/stable/modules/linear_model.html#ordinary-least-squares) fit on the training data. \n",
    "\n",
    "Evaluate the [root mean squared error](https://scikit-learn.org/stable/modules/generated/sklearn.metrics.root_mean_squared_error.html#sklearn.metrics.root_mean_squared_error) of the model on **both** the training data **and** the test data (that is, the training error and the generalization error). Report both and briefly discuss the results: Do you observe underfitting or overfitting?\n",
    "\n",
    "Note that the model predictions on the test data may not be perfect, but they should improve meaningfully over the simple baseline from Task 2 or something is wrong."
   ]
  },
  {
   "cell_type": "code",
   "execution_count": 39,
   "metadata": {},
   "outputs": [
    {
     "name": "stdout",
     "output_type": "stream",
     "text": [
      "Training Error:52.852354801187886\n",
      "Test Error:55.61674711723443\n"
     ]
    }
   ],
   "source": [
    "from sklearn import linear_model\n",
    "model=LinearRegression()\n",
    "model.fit(X_train,y_train)\n",
    "y_hat=model.predict(X_train)\n",
    "train_rmse=root_mean_squared_error(y_hat,y_train)\n",
    "y_predict=model.predict(X_test)\n",
    "test_rmse=root_mean_squared_error(y_predict,y_test)\n",
    "print(f\"Training Error:{train_rmse}\")\n",
    "print(f\"Test Error:{test_rmse}\")"
   ]
  },
  {
   "cell_type": "markdown",
   "metadata": {},
   "source": [
    "I think we are observing underfitting. The training and test error are both relatively high."
   ]
  },
  {
   "cell_type": "markdown",
   "metadata": {},
   "source": [
    "## Task 4\n",
    "\n",
    "If your goal is to understand which of the input features in `X` are most important for predicting the target `y`, the linear model you built in task 3 may not be very helpful. Build a new linear model using [Lasso regression](https://scikit-learn.org/stable/modules/linear_model.html#lasso) that achieves comparable generalization error as the task 3 model using ordinary least squares regression (within 10% of the root mean squared error on the test set), but with **0 for at least three of the model coefficients** (that is, the model does not use these features to make predictions). \n",
    "\n",
    "You may need to try multiple vaues of the `alpha` *hyperparameter* to find a model that satisfies both the error and *sparsity* constraints (that at least three of the coefficients are 0). Nevertheless, you should only evaluate error on the test dataset **once**. Show your work for how you find a good `alpha` in code and explain your work in English below. Standard approaches would be to split the training data into a train and validation set, or to use [cross validation](https://scikit-learn.org/stable/modules/cross_validation.html) on the training data.\n",
    "\n",
    "For your final fit Lasso model with the chosen `alpha`, report the [root mean squared error](https://scikit-learn.org/stable/modules/generated/sklearn.metrics.root_mean_squared_error.html#sklearn.metrics.root_mean_squared_error) on the test data. Also report the model coefficients and use this to explain which features (see their names/interpretations above) seem less important for predicting the target."
   ]
  },
  {
   "cell_type": "code",
   "execution_count": 127,
   "metadata": {},
   "outputs": [
    {
     "name": "stdout",
     "output_type": "stream",
     "text": [
      "[-0.05914569 -0.          6.66461255  1.20451025  1.00923764 -1.18047839\n",
      " -1.72911058 -0.          0.          0.07443746]\n",
      "Val Error:59.23521335484314\n",
      "Training Error:54.95636472789052\n",
      "Test Error:57.70418540942942\n"
     ]
    }
   ],
   "source": [
    "model_lasso=linear_model.Lasso(alpha=4.4)\n",
    "X_train1, X_val, y_train1, y_val=train_test_split(X_train,y_train, test_size=.3, random_state=2024)\n",
    "model_lasso.fit(X_train1,y_train1)\n",
    "print(model_lasso.coef_)\n",
    "y_hat=model_lasso.predict(X_val)\n",
    "val_rmse=root_mean_squared_error(y_hat,y_val)\n",
    "# y_predict=model_lasso.predict(X_test)\n",
    "# test_rmse=root_mean_squared_error(y_predict,y_test)\n",
    "print(f\"Val Error:{val_rmse}\")\n",
    "# print(f\"Test Error:{test_rmse}\")\n",
    "model_lasso.fit(X_train,y_train)\n",
    "y_hat=model_lasso.predict(X_train)\n",
    "train_rmse=root_mean_squared_error(y_hat,y_train)\n",
    "y_predict=model_lasso.predict(X_test)\n",
    "test_rmse=root_mean_squared_error(y_predict,y_test)\n",
    "print(f\"Training Error:{train_rmse}\")\n",
    "print(f\"Test Error:{test_rmse}\")"
   ]
  },
  {
   "cell_type": "markdown",
   "metadata": {},
   "source": [
    "I split the training data into a training set and a validation set so I could find a good alpha hyperparameter. I increased alpha until 3 of the coefficients were 0, and then decreased alpha to satisfy the error constraints. The coefficients used in the model are as followed:\n",
    "age age in years:-0.05914569\n",
    "sex:0\n",
    "bmi body mass index:6.66461255\n",
    "bp average blood pressure:1.20451025 \n",
    "s1 tc, total serum cholesterol: 1.00923764\n",
    "s2 ldl, low-density lipoproteins: -1.18047839\n",
    "s3 hdl, high-density lipoproteins: -1.72911058\n",
    "s4 tch, total cholesterol / HDL: 0\n",
    "s5 ltg, log of serum triglycerides level: 0\n",
    "s6 glu, blood sugar level: 0.07443746\n",
    "\n",
    "It seems that sex, s4, and s5 were the least important for predicting the target value."
   ]
  }
 ],
 "metadata": {
  "kernelspec": {
   "display_name": "Python 3 (ipykernel)",
   "language": "python",
   "name": "python3"
  },
  "language_info": {
   "codemirror_mode": {
    "name": "ipython",
    "version": 3
   },
   "file_extension": ".py",
   "mimetype": "text/x-python",
   "name": "python",
   "nbconvert_exporter": "python",
   "pygments_lexer": "ipython3",
   "version": "3.12.4"
  }
 },
 "nbformat": 4,
 "nbformat_minor": 4
}
